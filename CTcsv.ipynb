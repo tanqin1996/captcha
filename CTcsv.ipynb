{
 "cells": [
  {
   "cell_type": "code",
   "execution_count": 17,
   "metadata": {
    "collapsed": true
   },
   "outputs": [],
   "source": [
    "from captcha.image import ImageCaptcha\n",
    "from random import randint\n",
    "import os\n",
    "import csv\n",
    "import tensorflow.gfile as gfile"
   ]
  },
  {
   "cell_type": "code",
   "execution_count": 18,
   "metadata": {
    "collapsed": true
   },
   "outputs": [],
   "source": [
    "number = ['0','1','2','3','4','5','6','7','8','9']\n",
    "alphabet = ['a','b','c','d','e','f','g','h','i','j','k','l','m','n','o','p','q','r','s','t','u','v','w','x','y','z']\n",
    "ALPHABET = ['A','B','C','D','E','F','G','H','I','J','K','L','M','N','O','P','Q','R','S','T','U','V','W','X','Y','Z']\n",
    "CAPTCHA_CHARSET = number+alphabet+ALPHABET   # 验证码字符集\n",
    "TRAIN_DATA_DIR = './captcha_pic/' # 验证码数据集目录\n",
    "TRAIN_DATASET_SIZE = 10 "
   ]
  },
  {
   "cell_type": "code",
   "execution_count": 19,
   "metadata": {
    "collapsed": false
   },
   "outputs": [],
   "source": [
    "# 如果保存验证码图像，先清空 data_dir 目录\n",
    "if gfile.Exists(TRAIN_DATA_DIR):\n",
    "    gfile.DeleteRecursively(TRAIN_DATA_DIR)\n",
    "gfile.MakeDirs(TRAIN_DATA_DIR)\n",
    "    "
   ]
  },
  {
   "cell_type": "code",
   "execution_count": 20,
   "metadata": {
    "collapsed": true
   },
   "outputs": [],
   "source": [
    "def captcha_pic_builder(captcha_charset=CAPTCHA_CHARSET):\n",
    "    #生成序列验证码图片及包含其对应目标值的csv文件\n",
    "    list=captcha_charset\n",
    "    #因为csv标签名不能放在循环里的缘故，故将创建及增加内容放在外面\n",
    "    #newline='',是为了防止以Excel打开时会多出空行\n",
    "    \n",
    "    with open(TRAIN_DATA_DIR+'labels.csv', 'a+', newline='') as csvfile:\n",
    "        writer = csv.writer(csvfile, dialect='excel')\n",
    "        writer.writerow(['file_num', 'chars'])\n",
    "        for j in range(TRAIN_DATASET_SIZE):\n",
    "            chars = ''\n",
    "            for i in range(4):\n",
    "                chars += list[randint(0, 61)]\n",
    "                print(chars)\n",
    "            #生成图片\n",
    "            image = ImageCaptcha().generate_image(chars)\n",
    "            # image.show()\n",
    "            filename = str(j) +'.jpg'\n",
    "            #将图片保存到本地\n",
    "            image.save(os.path.join(TRAIN_DATA_DIR, filename))\n",
    "            #添加样本序列及目标值\n",
    "            writer.writerow([j,chars])\n",
    "    return None\n"
   ]
  },
  {
   "cell_type": "code",
   "execution_count": 21,
   "metadata": {
    "collapsed": false
   },
   "outputs": [
    {
     "name": "stdout",
     "output_type": "stream",
     "text": [
      "v\n",
      "vn\n",
      "vnY\n",
      "vnYG\n",
      "U\n",
      "Ud\n",
      "Udh\n",
      "UdhO\n",
      "a\n",
      "aA\n",
      "aAj\n",
      "aAjx\n",
      "o\n",
      "o3\n",
      "o3A\n",
      "o3AH\n",
      "F\n",
      "F6\n",
      "F6n\n",
      "F6n1\n",
      "u\n",
      "u0\n",
      "u0c\n",
      "u0cl\n",
      "y\n",
      "yo\n",
      "yoZ\n",
      "yoZi\n",
      "g\n",
      "gd\n",
      "gdy\n",
      "gdyn\n",
      "i\n",
      "ix\n",
      "ixd\n",
      "ixdb\n",
      "p\n",
      "p0\n",
      "p0z\n",
      "p0z8\n"
     ]
    }
   ],
   "source": [
    "captcha_pic_builder(CAPTCHA_CHARSET)\n"
   ]
  },
  {
   "cell_type": "code",
   "execution_count": null,
   "metadata": {
    "collapsed": true
   },
   "outputs": [],
   "source": []
  }
 ],
 "metadata": {
  "kernelspec": {
   "display_name": "Python 3",
   "language": "python",
   "name": "python3"
  },
  "language_info": {
   "codemirror_mode": {
    "name": "ipython",
    "version": 3
   },
   "file_extension": ".py",
   "mimetype": "text/x-python",
   "name": "python",
   "nbconvert_exporter": "python",
   "pygments_lexer": "ipython3",
   "version": "3.5.4"
  }
 },
 "nbformat": 4,
 "nbformat_minor": 2
}
